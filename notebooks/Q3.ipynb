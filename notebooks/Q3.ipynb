{
 "cells": [
  {
   "cell_type": "code",
   "execution_count": 3,
   "metadata": {
    "vscode": {
     "languageId": "r"
    }
   },
   "outputs": [
    {
     "name": "stderr",
     "output_type": "stream",
     "text": [
      "Installing package into 'C:/Users/fatim/AppData/Local/R/win-library/4.2'\n",
      "(as 'lib' is unspecified)\n",
      "\n"
     ]
    },
    {
     "name": "stdout",
     "output_type": "stream",
     "text": [
      "package 'tm' successfully unpacked and MD5 sums checked\n"
     ]
    },
    {
     "ename": "ERROR",
     "evalue": "Error in unpackPkgZip(foundpkgs[okp, 2L], foundpkgs[okp, 1L], lib, libs_only, : ERROR: failed to lock directory 'C:\\Users\\fatim\\AppData\\Local\\R\\win-library\\4.2' for modifying\nTry removing 'C:\\Users\\fatim\\AppData\\Local\\R\\win-library\\4.2/00LOCK'\n",
     "output_type": "error",
     "traceback": [
      "Error in unpackPkgZip(foundpkgs[okp, 2L], foundpkgs[okp, 1L], lib, libs_only, : ERROR: failed to lock directory 'C:\\Users\\fatim\\AppData\\Local\\R\\win-library\\4.2' for modifying\nTry removing 'C:\\Users\\fatim\\AppData\\Local\\R\\win-library\\4.2/00LOCK'\nTraceback:\n",
      "1. install.packages(\"tm\")",
      "2. .install.winbinary(pkgs = bins, lib = lib, contriburl = contrib.url(repos, \n .     type2), method = method, available = av2, destdir = destdir, \n .     dependencies = NULL, libs_only = libs_only, quiet = quiet, \n .     ...)",
      "3. unpackPkgZip(foundpkgs[okp, 2L], foundpkgs[okp, 1L], lib, libs_only, \n .     lock)",
      "4. stop(gettextf(\"ERROR: failed to lock directory %s for modifying\\nTry removing %s\", \n .     sQuote(lib), sQuote(lockdir)), domain = NA)"
     ]
    }
   ],
   "source": [
    "install.packages(\"tm\")  \n",
    "install.packages(\"SnowballC\") \n",
    "install.packages(\"wordcloud\")  \n",
    "install.packages(\"RColorBrewer\") \n",
    "install.packages(\"syuzhet\") \n",
    "install.packages(\"ggplot2\") \n"
   ]
  },
  {
   "cell_type": "code",
   "execution_count": 4,
   "metadata": {
    "vscode": {
     "languageId": "r"
    }
   },
   "outputs": [
    {
     "name": "stderr",
     "output_type": "stream",
     "text": [
      "Loading required package: NLP\n",
      "\n",
      "Loading required package: RColorBrewer\n",
      "\n",
      "\n",
      "Attaching package: 'ggplot2'\n",
      "\n",
      "\n",
      "The following object is masked from 'package:NLP':\n",
      "\n",
      "    annotate\n",
      "\n",
      "\n"
     ]
    }
   ],
   "source": [
    "\n",
    "library(\"tm\")\n",
    "library(\"SnowballC\")\n",
    "library(\"wordcloud\")\n",
    "library(\"RColorBrewer\")\n",
    "library(\"syuzhet\")\n",
    "library(\"ggplot2\")\n",
    "library(\"stringr\")\n"
   ]
  },
  {
   "cell_type": "code",
   "execution_count": 5,
   "metadata": {
    "vscode": {
     "languageId": "r"
    }
   },
   "outputs": [
    {
     "name": "stderr",
     "output_type": "stream",
     "text": [
      "Warning message in readLines(file.choose(\"C:\\\\Users\\\\fatim\\\\OneDrive\\\\Documents\\\\PreScreen_r3_pw - 1234\\\\PreScreen_r3\\\\Q3_Essay.txt\")):\n",
      "\"incomplete final line found on 'C:\\Users\\fatim\\OneDrive\\Documents\\PreScreen_r3_pw - 1234\\PreScreen_r3\\Q3_Essay.txt'\"\n"
     ]
    },
    {
     "name": "stdout",
     "output_type": "stream",
     "text": [
      " [1] \"As a term, data analytics predominantly refers to an assortment of applications, from basic business\"   \n",
      " [2] \"intelligence (BI), reporting and online analytical processing (OLAP) to various forms of advanced\"      \n",
      " [3] \"analytics. In that sense, it's similar in nature to business analytics, another umbrella term for\"      \n",
      " [4] \"approaches to analyzing data -- with the difference that the latter is oriented to business uses, while\"\n",
      " [5] \"data analytics has a broader focus. The expansive view of the term isn't universal, though: In some\"    \n",
      " [6] \"cases, people use data analytics specifically to mean advanced analytics, treating BI as a separate\"    \n",
      " [7] \"category. Data analytics initiatives can help businesses increase revenues, improve operational\"        \n",
      " [8] \"efficiency, optimize marketing campaigns and customer service efforts, respond more quickly to\"         \n",
      " [9] \"emerging market trends and gain a competitive edge over rivals -- all with the ultimate goal of\"        \n",
      "[10] \"boosting business performance. Depending on the particular application, the data that's analyzed\"       \n",
      "[11] \"can consist of either historical records or new information that has been processed for real-time\"      \n",
      "[12] \"analytics uses. In addition, it can come from a mix of internal systems and external data sources. At\"  \n",
      "[13] \"a high level, data analytics methodologies include exploratory data analysis (EDA), which aims to find\" \n",
      "[14] \"patterns and relationships in data, and confirmatory data analysis (CDA), which applies statistical\"    \n",
      "[15] \"techniques to determine whether hypotheses about a data set are true or false. EDA is often\"            \n",
      "[16] \"compared to detective work, while CDA is akin to the work of a judge or jury during a court trial -- a\" \n",
      "[17] \"distinction first drawn by statistician John W. Tukey in his 1977 book Exploratory Data Analysis. Data\" \n",
      "[18] \"analytics can also be separated into quantitative data analysis and qualitative data analysis. The\"     \n",
      "[19] \"former involves analysis of numerical data with quantifiable variables that can be compared or\"         \n",
      "[20] \"measured statistically. The qualitative approach is more interpretive -- it focuses on understanding\"   \n",
      "[21] \"the content of non-numerical data like text, images, audio and video, including common phrases,\"        \n",
      "[22] \"themes and points of view.\"                                                                             \n"
     ]
    },
    {
     "data": {
      "text/html": [
       "22"
      ],
      "text/latex": [
       "22"
      ],
      "text/markdown": [
       "22"
      ],
      "text/plain": [
       "[1] 22"
      ]
     },
     "metadata": {},
     "output_type": "display_data"
    },
    {
     "data": {
      "text/html": [
       "<style>\n",
       ".list-inline {list-style: none; margin:0; padding: 0}\n",
       ".list-inline>li {display: inline-block}\n",
       ".list-inline>li:not(:last-child)::after {content: \"\\00b7\"; padding: 0 .5ex}\n",
       "</style>\n",
       "<ol class=list-inline><li>15</li><li>13</li><li>15</li><li>17</li><li>17</li><li>15</li><li>11</li><li>12</li><li>17</li><li>12</li><li>15</li><li>18</li><li>15</li><li>13</li><li>16</li><li>22</li><li>16</li><li>14</li><li>14</li><li>13</li><li>14</li><li>5</li></ol>\n"
      ],
      "text/latex": [
       "\\begin{enumerate*}\n",
       "\\item 15\n",
       "\\item 13\n",
       "\\item 15\n",
       "\\item 17\n",
       "\\item 17\n",
       "\\item 15\n",
       "\\item 11\n",
       "\\item 12\n",
       "\\item 17\n",
       "\\item 12\n",
       "\\item 15\n",
       "\\item 18\n",
       "\\item 15\n",
       "\\item 13\n",
       "\\item 16\n",
       "\\item 22\n",
       "\\item 16\n",
       "\\item 14\n",
       "\\item 14\n",
       "\\item 13\n",
       "\\item 14\n",
       "\\item 5\n",
       "\\end{enumerate*}\n"
      ],
      "text/markdown": [
       "1. 15\n",
       "2. 13\n",
       "3. 15\n",
       "4. 17\n",
       "5. 17\n",
       "6. 15\n",
       "7. 11\n",
       "8. 12\n",
       "9. 17\n",
       "10. 12\n",
       "11. 15\n",
       "12. 18\n",
       "13. 15\n",
       "14. 13\n",
       "15. 16\n",
       "16. 22\n",
       "17. 16\n",
       "18. 14\n",
       "19. 14\n",
       "20. 13\n",
       "21. 14\n",
       "22. 5\n",
       "\n",
       "\n"
      ],
      "text/plain": [
       " [1] 15 13 15 17 17 15 11 12 17 12 15 18 15 13 16 22 16 14 14 13 14  5"
      ]
     },
     "metadata": {},
     "output_type": "display_data"
    }
   ],
   "source": [
    "\n",
    "# Read the TextData file\n",
    "text <- readLines(file.choose(\"C:\\\\Users\\\\fatim\\\\OneDrive\\\\Documents\\\\PreScreen_r3_pw - 1234\\\\PreScreen_r3\\\\Q3_Essay.txt\"))\n"
   ]
  },
  {
   "cell_type": "code",
   "execution_count": 8,
   "metadata": {
    "vscode": {
     "languageId": "r"
    }
   },
   "outputs": [
    {
     "data": {
      "text/html": [
       "22"
      ],
      "text/latex": [
       "22"
      ],
      "text/markdown": [
       "22"
      ],
      "text/plain": [
       "[1] 22"
      ]
     },
     "metadata": {},
     "output_type": "display_data"
    }
   ],
   "source": [
    "\n",
    "# Check for length of TextData\n",
    "length(text)\n"
   ]
  },
  {
   "cell_type": "code",
   "execution_count": 9,
   "metadata": {
    "vscode": {
     "languageId": "r"
    }
   },
   "outputs": [
    {
     "data": {
      "text/html": [
       "<style>\n",
       ".list-inline {list-style: none; margin:0; padding: 0}\n",
       ".list-inline>li {display: inline-block}\n",
       ".list-inline>li:not(:last-child)::after {content: \"\\00b7\"; padding: 0 .5ex}\n",
       "</style>\n",
       "<ol class=list-inline><li>15</li><li>13</li><li>15</li><li>17</li><li>17</li><li>15</li><li>11</li><li>12</li><li>17</li><li>12</li><li>15</li><li>18</li><li>15</li><li>13</li><li>16</li><li>22</li><li>16</li><li>14</li><li>14</li><li>13</li><li>14</li><li>5</li></ol>\n"
      ],
      "text/latex": [
       "\\begin{enumerate*}\n",
       "\\item 15\n",
       "\\item 13\n",
       "\\item 15\n",
       "\\item 17\n",
       "\\item 17\n",
       "\\item 15\n",
       "\\item 11\n",
       "\\item 12\n",
       "\\item 17\n",
       "\\item 12\n",
       "\\item 15\n",
       "\\item 18\n",
       "\\item 15\n",
       "\\item 13\n",
       "\\item 16\n",
       "\\item 22\n",
       "\\item 16\n",
       "\\item 14\n",
       "\\item 14\n",
       "\\item 13\n",
       "\\item 14\n",
       "\\item 5\n",
       "\\end{enumerate*}\n"
      ],
      "text/markdown": [
       "1. 15\n",
       "2. 13\n",
       "3. 15\n",
       "4. 17\n",
       "5. 17\n",
       "6. 15\n",
       "7. 11\n",
       "8. 12\n",
       "9. 17\n",
       "10. 12\n",
       "11. 15\n",
       "12. 18\n",
       "13. 15\n",
       "14. 13\n",
       "15. 16\n",
       "16. 22\n",
       "17. 16\n",
       "18. 14\n",
       "19. 14\n",
       "20. 13\n",
       "21. 14\n",
       "22. 5\n",
       "\n",
       "\n"
      ],
      "text/plain": [
       " [1] 15 13 15 17 17 15 11 12 17 12 15 18 15 13 16 22 16 14 14 13 14  5"
      ]
     },
     "metadata": {},
     "output_type": "display_data"
    }
   ],
   "source": [
    "# Count Number of Words in TextData String\n",
    "split <- strsplit(text, \" \")\n",
    "sapply( split , length)\n"
   ]
  },
  {
   "cell_type": "code",
   "execution_count": 22,
   "metadata": {
    "vscode": {
     "languageId": "r"
    }
   },
   "outputs": [
    {
     "data": {
      "text/html": [
       "319"
      ],
      "text/latex": [
       "319"
      ],
      "text/markdown": [
       "319"
      ],
      "text/plain": [
       "[1] 319"
      ]
     },
     "metadata": {},
     "output_type": "display_data"
    }
   ],
   "source": [
    "# Total sum of words in TextData\n",
    "sum(sapply( split , length))"
   ]
  },
  {
   "cell_type": "code",
   "execution_count": 10,
   "metadata": {
    "vscode": {
     "languageId": "r"
    }
   },
   "outputs": [],
   "source": [
    "# Load the data as a corpus\n",
    "TextDoc <- Corpus(VectorSource(text))\n"
   ]
  },
  {
   "cell_type": "code",
   "execution_count": 11,
   "metadata": {
    "vscode": {
     "languageId": "r"
    }
   },
   "outputs": [
    {
     "name": "stderr",
     "output_type": "stream",
     "text": [
      "Warning message in tm_map.SimpleCorpus(TextDoc, toSpace, \"/\"):\n",
      "\"transformation drops documents\"\n",
      "Warning message in tm_map.SimpleCorpus(TextDoc, toSpace, \"@\"):\n",
      "\"transformation drops documents\"\n",
      "Warning message in tm_map.SimpleCorpus(TextDoc, toSpace, \"\\\\|\"):\n",
      "\"transformation drops documents\"\n"
     ]
    }
   ],
   "source": [
    "\n",
    "# Cleaning up TextData by replacing \"/\", \"@\" and \"|\" with space\n",
    "toSpace <- content_transformer(function (x , pattern ) gsub(pattern, \" \", x))\n",
    "TextDoc <- tm_map(TextDoc, toSpace, \"/\")\n",
    "TextDoc <- tm_map(TextDoc, toSpace, \"@\")\n",
    "TextDoc <- tm_map(TextDoc, toSpace, \"\\\\|\")\n"
   ]
  },
  {
   "cell_type": "code",
   "execution_count": 7,
   "metadata": {
    "vscode": {
     "languageId": "r"
    }
   },
   "outputs": [
    {
     "name": "stderr",
     "output_type": "stream",
     "text": [
      "Warning message in tm_map.SimpleCorpus(TextDoc, content_transformer(tolower)):\n",
      "\"transformation drops documents\"\n"
     ]
    }
   ],
   "source": [
    "\n",
    "# Convert the text to lower case\n",
    "TextDoc <- tm_map(TextDoc, content_transformer(tolower))\n"
   ]
  },
  {
   "cell_type": "code",
   "execution_count": 12,
   "metadata": {
    "vscode": {
     "languageId": "r"
    }
   },
   "outputs": [
    {
     "name": "stderr",
     "output_type": "stream",
     "text": [
      "Warning message in tm_map.SimpleCorpus(TextDoc, removeNumbers):\n",
      "\"transformation drops documents\"\n"
     ]
    }
   ],
   "source": [
    "\n",
    "# Remove numbers\n",
    "TextDoc <- tm_map(TextDoc, removeNumbers)\n"
   ]
  },
  {
   "cell_type": "code",
   "execution_count": 13,
   "metadata": {
    "vscode": {
     "languageId": "r"
    }
   },
   "outputs": [
    {
     "name": "stderr",
     "output_type": "stream",
     "text": [
      "Warning message in tm_map.SimpleCorpus(TextDoc, removeWords, stopwords(\"english\")):\n",
      "\"transformation drops documents\"\n"
     ]
    }
   ],
   "source": [
    "\n",
    "# Remove english common stopwords\n",
    "TextDoc <- tm_map(TextDoc, removeWords, stopwords(\"english\"))\n"
   ]
  },
  {
   "cell_type": "code",
   "execution_count": 14,
   "metadata": {
    "vscode": {
     "languageId": "r"
    }
   },
   "outputs": [
    {
     "name": "stderr",
     "output_type": "stream",
     "text": [
      "Warning message in tm_map.SimpleCorpus(TextDoc, removePunctuation):\n",
      "\"transformation drops documents\"\n"
     ]
    }
   ],
   "source": [
    "\n",
    "#TextDoc <- tm_map(TextDoc, removeWords, c(\"s\", \"company\",\"team\")) \n",
    "\n",
    "# Remove punctuations\n",
    "TextDoc <- tm_map(TextDoc, removePunctuation)\n"
   ]
  },
  {
   "cell_type": "code",
   "execution_count": 15,
   "metadata": {
    "vscode": {
     "languageId": "r"
    }
   },
   "outputs": [
    {
     "name": "stderr",
     "output_type": "stream",
     "text": [
      "Warning message in tm_map.SimpleCorpus(TextDoc, stripWhitespace):\n",
      "\"transformation drops documents\"\n"
     ]
    }
   ],
   "source": [
    "\n",
    "# Eliminate extra white spaces\n",
    "TextDoc <- tm_map(TextDoc, stripWhitespace)\n"
   ]
  },
  {
   "cell_type": "code",
   "execution_count": 23,
   "metadata": {
    "vscode": {
     "languageId": "r"
    }
   },
   "outputs": [
    {
     "name": "stderr",
     "output_type": "stream",
     "text": [
      "Warning message in tm_map.SimpleCorpus(TextDoc, stemDocument):\n",
      "\"transformation drops documents\"\n"
     ]
    }
   ],
   "source": [
    "\n",
    "# Text stemming - which reduces words to their root form\n",
    "TextDoc <- tm_map(TextDoc, stemDocument)\n"
   ]
  },
  {
   "cell_type": "code",
   "execution_count": 25,
   "metadata": {
    "vscode": {
     "languageId": "r"
    }
   },
   "outputs": [
    {
     "data": {
      "text/html": [
       "22"
      ],
      "text/latex": [
       "22"
      ],
      "text/markdown": [
       "22"
      ],
      "text/plain": [
       "[1] 22"
      ]
     },
     "metadata": {},
     "output_type": "display_data"
    }
   ],
   "source": [
    "length(TextDoc)"
   ]
  },
  {
   "cell_type": "code",
   "execution_count": 32,
   "metadata": {
    "vscode": {
     "languageId": "r"
    }
   },
   "outputs": [
    {
     "name": "stderr",
     "output_type": "stream",
     "text": [
      "Warning message in stri_count_regex(string, pattern, opts_regex = opts(pattern)):\n",
      "\"argument is not an atomic vector; coercing\"\n"
     ]
    },
    {
     "data": {
      "text/html": [
       "<style>\n",
       ".list-inline {list-style: none; margin:0; padding: 0}\n",
       ".list-inline>li {display: inline-block}\n",
       ".list-inline>li:not(:last-child)::after {content: \"\\00b7\"; padding: 0 .5ex}\n",
       "</style>\n",
       "<ol class=list-inline><li>15</li><li>0</li><li>0</li></ol>\n"
      ],
      "text/latex": [
       "\\begin{enumerate*}\n",
       "\\item 15\n",
       "\\item 0\n",
       "\\item 0\n",
       "\\end{enumerate*}\n"
      ],
      "text/markdown": [
       "1. 15\n",
       "2. 0\n",
       "3. 0\n",
       "\n",
       "\n"
      ],
      "text/plain": [
       "[1] 15  0  0"
      ]
     },
     "metadata": {},
     "output_type": "display_data"
    }
   ],
   "source": [
    "# Count character \"Data\" in TextData\n",
    "str_count(TextDoc, \"data\")"
   ]
  },
  {
   "cell_type": "code",
   "execution_count": 33,
   "metadata": {
    "vscode": {
     "languageId": "r"
    }
   },
   "outputs": [
    {
     "data": {
      "text/html": [
       "<style>\n",
       ".list-inline {list-style: none; margin:0; padding: 0}\n",
       ".list-inline>li {display: inline-block}\n",
       ".list-inline>li:not(:last-child)::after {content: \"\\00b7\"; padding: 0 .5ex}\n",
       "</style>\n",
       "<ol class=list-inline><li>217</li><li>4</li><li>2</li></ol>\n"
      ],
      "text/latex": [
       "\\begin{enumerate*}\n",
       "\\item 217\n",
       "\\item 4\n",
       "\\item 2\n",
       "\\end{enumerate*}\n"
      ],
      "text/markdown": [
       "1. 217\n",
       "2. 4\n",
       "3. 2\n",
       "\n",
       "\n"
      ],
      "text/plain": [
       "[1] 217   4   2"
      ]
     },
     "metadata": {},
     "output_type": "display_data"
    }
   ],
   "source": [
    "lengths(gregexpr(\"\\\\W+\", TextDoc)) + 1"
   ]
  },
  {
   "cell_type": "code",
   "execution_count": 28,
   "metadata": {
    "vscode": {
     "languageId": "r"
    }
   },
   "outputs": [
    {
     "ename": "ERROR",
     "evalue": "Error in strsplit(TextDoc, \" \"): non-character argument\n",
     "output_type": "error",
     "traceback": [
      "Error in strsplit(TextDoc, \" \"): non-character argument\nTraceback:\n",
      "1. strsplit(TextDoc, \" \")"
     ]
    }
   ],
   "source": [
    "# Count Number of Words in TextData String\n",
    "split <- strsplit(TextDoc, \" \")\n",
    "sapply( split , length)\n"
   ]
  },
  {
   "cell_type": "code",
   "execution_count": 24,
   "metadata": {
    "vscode": {
     "languageId": "r"
    }
   },
   "outputs": [
    {
     "name": "stdout",
     "output_type": "stream",
     "text": [
      "        Docs\n",
      "Terms    1 2 3 4 5 6 7 8 9 10 11 12 13 14 15 16 17 18 19 20 21 22\n",
      "  analyt 1 1 2 0 1 2 1 0 0  0  0  1  1  0  0  0  0  1  0  0  0  0\n",
      "  applic 1 0 0 0 0 0 0 0 0  1  0  0  0  0  0  0  0  0  0  0  0  0\n",
      "  assort 1 0 0 0 0 0 0 0 0  0  0  0  0  0  0  0  0  0  0  0  0  0\n",
      "  basic  1 0 0 0 0 0 0 0 0  0  0  0  0  0  0  0  0  0  0  0  0  0\n",
      "  busi   1 0 1 1 0 0 1 0 0  1  0  0  0  0  0  0  0  0  0  0  0  0\n",
      "  data   1 0 0 1 1 1 1 0 0  1  0  1  2  2  1  0  2  2  1  0  1  0\n"
     ]
    }
   ],
   "source": [
    "\n",
    "# Build a term-document matrix\n",
    "TextDoc_dtm <- TermDocumentMatrix(TextDoc)\n",
    "dtm_m <- as.matrix(TextDoc_dtm)\n",
    "print(head(dtm_m))\n"
   ]
  },
  {
   "cell_type": "code",
   "execution_count": 19,
   "metadata": {
    "vscode": {
     "languageId": "r"
    }
   },
   "outputs": [],
   "source": [
    "\n",
    "# Sort by descearing value of frequency\n",
    "dtm_v <- sort(rowSums(dtm_m),decreasing=TRUE)\n",
    "dtm_d <- data.frame(word = names(dtm_v),freq=dtm_v)\n"
   ]
  },
  {
   "cell_type": "code",
   "execution_count": 20,
   "metadata": {
    "vscode": {
     "languageId": "r"
    }
   },
   "outputs": [
    {
     "name": "stdout",
     "output_type": "stream",
     "text": [
      "                     word freq\n",
      "data                 data   18\n",
      "analyt             analyt   11\n",
      "analysi           analysi    6\n",
      "busi                 busi    5\n",
      "can                   can    5\n",
      "term                 term    3\n",
      "use                   use    3\n",
      "the                   the    3\n",
      "applic             applic    2\n",
      "advanc             advanc    2\n",
      "process           process    2\n",
      "analyz             analyz    2\n",
      "approach         approach    2\n",
      "focus               focus    2\n",
      "view                 view    2\n",
      "separ               separ    2\n",
      "market             market    2\n",
      "eda                   eda    2\n",
      "exploratori   exploratori    2\n",
      "includ             includ    2\n",
      "cda                   cda    2\n",
      "statist           statist    2\n",
      "compar             compar    2\n",
      "work                 work    2\n",
      "qualit             qualit    2\n",
      "assort             assort    1\n",
      "basic               basic    1\n",
      "predomin         predomin    1\n",
      "refer               refer    1\n",
      "form                 form    1\n",
      "intellig         intellig    1\n",
      "olap                 olap    1\n",
      "onlin               onlin    1\n",
      "report             report    1\n",
      "various           various    1\n",
      "anoth               anoth    1\n",
      "natur               natur    1\n",
      "sens                 sens    1\n",
      "similar           similar    1\n",
      "umbrella         umbrella    1\n",
      "differ             differ    1\n",
      "latter             latter    1\n",
      "orient             orient    1\n",
      "broader           broader    1\n",
      "expans             expans    1\n",
      "though             though    1\n",
      "univers           univers    1\n",
      "case                 case    1\n",
      "mean                 mean    1\n",
      "peopl               peopl    1\n",
      "specif             specif    1\n",
      "treat               treat    1\n",
      "categori         categori    1\n",
      "help                 help    1\n",
      "improv             improv    1\n",
      "increas           increas    1\n",
      "initi               initi    1\n",
      "oper                 oper    1\n",
      "revenu             revenu    1\n",
      "campaign         campaign    1\n",
      "custom             custom    1\n",
      "effici             effici    1\n",
      "effort             effort    1\n",
      "optim               optim    1\n",
      "quick               quick    1\n",
      "respond           respond    1\n",
      "servic             servic    1\n",
      "competit         competit    1\n",
      "edg                   edg    1\n",
      "emerg               emerg    1\n",
      "gain                 gain    1\n",
      "goal                 goal    1\n",
      "rival               rival    1\n",
      "trend               trend    1\n",
      "ultim               ultim    1\n",
      "boost               boost    1\n",
      "depend             depend    1\n",
      "particular     particular    1\n",
      "perform           perform    1\n",
      "consist           consist    1\n",
      "either             either    1\n",
      "histor             histor    1\n",
      "inform             inform    1\n",
      "new                   new    1\n",
      "realtim           realtim    1\n",
      "record             record    1\n",
      "addit               addit    1\n",
      "come                 come    1\n",
      "extern             extern    1\n",
      "intern             intern    1\n",
      "mix                   mix    1\n",
      "sourc               sourc    1\n",
      "system             system    1\n",
      "aim                   aim    1\n",
      "find                 find    1\n",
      "high                 high    1\n",
      "level               level    1\n",
      "methodolog     methodolog    1\n",
      "appli               appli    1\n",
      "confirmatori confirmatori    1\n",
      "pattern           pattern    1\n",
      "relationship relationship    1\n",
      "determin         determin    1\n",
      "fals                 fals    1\n",
      "hypothes         hypothes    1\n",
      "often               often    1\n",
      "set                   set    1\n",
      "techniqu         techniqu    1\n",
      "true                 true    1\n",
      "whether           whether    1\n",
      "akin                 akin    1\n",
      "court               court    1\n",
      "detect             detect    1\n",
      "judg                 judg    1\n",
      "juri                 juri    1\n",
      "trial               trial    1\n",
      "book                 book    1\n",
      "distinct         distinct    1\n",
      "drawn               drawn    1\n",
      "first               first    1\n",
      "john                 john    1\n",
      "statistician statistician    1\n",
      "tukey               tukey    1\n",
      "also                 also    1\n",
      "quantit           quantit    1\n",
      "former             former    1\n",
      "involv             involv    1\n",
      "numer               numer    1\n",
      "quantifi         quantifi    1\n",
      "variabl           variabl    1\n",
      "interpret       interpret    1\n",
      "measur             measur    1\n",
      "understand     understand    1\n",
      "audio               audio    1\n",
      "common             common    1\n",
      "content           content    1\n",
      "imag                 imag    1\n",
      "like                 like    1\n",
      "nonnumer         nonnumer    1\n",
      "phrase             phrase    1\n",
      "text                 text    1\n",
      "video               video    1\n",
      "point               point    1\n",
      "theme               theme    1\n"
     ]
    }
   ],
   "source": [
    "\n",
    "# Display the top 5 most frequent words\n",
    "print(dtm_d, 5)\n"
   ]
  },
  {
   "cell_type": "code",
   "execution_count": 21,
   "metadata": {
    "vscode": {
     "languageId": "r"
    }
   },
   "outputs": [
    {
     "data": {
      "image/png": "[encoded data removed]",
      "text/plain": [
       "Plot with title \"Top 5 most frequent words\""
      ]
     },
     "metadata": {
      "image/png": {
       "height": 420,
       "width": 420
      }
     },
     "output_type": "display_data"
    }
   ],
   "source": [
    "\n",
    "# Plot the most frequent words\n",
    "barplot(dtm_d[1:5,]$freq, las = 2, names.arg = dtm_d[1:5,]$word,\n",
    "        col =\"lightgreen\", main =\"Top 5 most frequent words\",\n",
    "        ylab = \"Word frequencies\")\n",
    "\n",
    "\n"
   ]
  },
  {
   "cell_type": "code",
   "execution_count": null,
   "metadata": {
    "vscode": {
     "languageId": "r"
    }
   },
   "outputs": [],
   "source": []
  }
 ],
 "metadata": {
  "kernelspec": {
   "display_name": "R",
   "language": "R",
   "name": "ir"
  },
  "language_info": {
   "codemirror_mode": "r",
   "file_extension": ".r",
   "mimetype": "text/x-r-source",
   "name": "R",
   "pygments_lexer": "r",
   "version": "4.2.1"
  },
  "orig_nbformat": 4
 },
 "nbformat": 4,
 "nbformat_minor": 2
}
