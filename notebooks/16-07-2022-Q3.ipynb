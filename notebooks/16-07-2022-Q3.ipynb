{
 "cells": [
  {
   "cell_type": "code",
   "execution_count": 7,
   "metadata": {
    "vscode": {
     "languageId": "r"
    }
   },
   "outputs": [
    {
     "name": "stderr",
     "output_type": "stream",
     "text": [
      "Loading required package: NLP\n",
      "\n",
      "Loading required package: RColorBrewer\n",
      "\n",
      "\n",
      "Attaching package: 'ggplot2'\n",
      "\n",
      "\n",
      "The following object is masked from 'package:NLP':\n",
      "\n",
      "    annotate\n",
      "\n",
      "\n"
     ]
    }
   ],
   "source": [
    "\n",
    "library(\"tm\")\n",
    "library(\"SnowballC\")\n",
    "library(\"wordcloud\")\n",
    "library(\"RColorBrewer\")\n",
    "library(\"syuzhet\")\n",
    "library(\"ggplot2\")\n",
    "library(\"stringr\")\n"
   ]
  },
  {
   "cell_type": "code",
   "execution_count": 1,
   "metadata": {
    "vscode": {
     "languageId": "r"
    }
   },
   "outputs": [
    {
     "name": "stderr",
     "output_type": "stream",
     "text": [
      "Warning message in readLines(\"C:/Users/Taofiq/Documents/GitHub/PreScreen/data/text.txt\"):\n",
      "\"incomplete final line found on 'C:/Users/Taofiq/Documents/GitHub/PreScreen/data/text.txt'\"\n"
     ]
    }
   ],
   "source": [
    "\n",
    "# Read the TextData file\n",
    "text <- readLines(\"C:/Users/Taofiq/Documents/GitHub/PreScreen/data/text.txt\")\n"
   ]
  },
  {
   "cell_type": "code",
   "execution_count": 2,
   "metadata": {
    "vscode": {
     "languageId": "r"
    }
   },
   "outputs": [
    {
     "data": {
      "text/html": [
       "22"
      ],
      "text/latex": [
       "22"
      ],
      "text/markdown": [
       "22"
      ],
      "text/plain": [
       "[1] 22"
      ]
     },
     "metadata": {},
     "output_type": "display_data"
    }
   ],
   "source": [
    "\n",
    "# Check for length of TextData\n",
    "length(text)\n"
   ]
  },
  {
   "cell_type": "markdown",
   "metadata": {},
   "source": [
    "There are twenty tow lines in the text."
   ]
  },
  {
   "cell_type": "markdown",
   "metadata": {},
   "source": [
    "## Preprocess the data"
   ]
  },
  {
   "cell_type": "code",
   "execution_count": 3,
   "metadata": {
    "vscode": {
     "languageId": "r"
    }
   },
   "outputs": [
    {
     "data": {
      "text/html": [
       "<style>\n",
       ".list-inline {list-style: none; margin:0; padding: 0}\n",
       ".list-inline>li {display: inline-block}\n",
       ".list-inline>li:not(:last-child)::after {content: \"\\00b7\"; padding: 0 .5ex}\n",
       "</style>\n",
       "<ol class=list-inline><li>15</li><li>13</li><li>15</li><li>17</li><li>17</li><li>15</li><li>11</li><li>12</li><li>17</li><li>12</li><li>15</li><li>18</li><li>15</li><li>13</li><li>16</li><li>22</li><li>16</li><li>14</li><li>14</li><li>13</li><li>14</li><li>5</li></ol>\n"
      ],
      "text/latex": [
       "\\begin{enumerate*}\n",
       "\\item 15\n",
       "\\item 13\n",
       "\\item 15\n",
       "\\item 17\n",
       "\\item 17\n",
       "\\item 15\n",
       "\\item 11\n",
       "\\item 12\n",
       "\\item 17\n",
       "\\item 12\n",
       "\\item 15\n",
       "\\item 18\n",
       "\\item 15\n",
       "\\item 13\n",
       "\\item 16\n",
       "\\item 22\n",
       "\\item 16\n",
       "\\item 14\n",
       "\\item 14\n",
       "\\item 13\n",
       "\\item 14\n",
       "\\item 5\n",
       "\\end{enumerate*}\n"
      ],
      "text/markdown": [
       "1. 15\n",
       "2. 13\n",
       "3. 15\n",
       "4. 17\n",
       "5. 17\n",
       "6. 15\n",
       "7. 11\n",
       "8. 12\n",
       "9. 17\n",
       "10. 12\n",
       "11. 15\n",
       "12. 18\n",
       "13. 15\n",
       "14. 13\n",
       "15. 16\n",
       "16. 22\n",
       "17. 16\n",
       "18. 14\n",
       "19. 14\n",
       "20. 13\n",
       "21. 14\n",
       "22. 5\n",
       "\n",
       "\n"
      ],
      "text/plain": [
       " [1] 15 13 15 17 17 15 11 12 17 12 15 18 15 13 16 22 16 14 14 13 14  5"
      ]
     },
     "metadata": {},
     "output_type": "display_data"
    }
   ],
   "source": [
    "# Count Number of Words in TextData String\n",
    "split <- strsplit(text, \" \")\n",
    "sapply( split , length)\n"
   ]
  },
  {
   "cell_type": "code",
   "execution_count": 4,
   "metadata": {
    "vscode": {
     "languageId": "r"
    }
   },
   "outputs": [
    {
     "data": {
      "text/html": [
       "319"
      ],
      "text/latex": [
       "319"
      ],
      "text/markdown": [
       "319"
      ],
      "text/plain": [
       "[1] 319"
      ]
     },
     "metadata": {},
     "output_type": "display_data"
    }
   ],
   "source": [
    "# Total sum of words in TextData\n",
    "sum(sapply( split , length))"
   ]
  },
  {
   "cell_type": "code",
   "execution_count": 8,
   "metadata": {
    "vscode": {
     "languageId": "r"
    }
   },
   "outputs": [],
   "source": [
    "# Load the data as a corpus\n",
    "TextDoc <- Corpus(VectorSource(text))\n"
   ]
  },
  {
   "cell_type": "code",
   "execution_count": 9,
   "metadata": {
    "vscode": {
     "languageId": "r"
    }
   },
   "outputs": [
    {
     "name": "stderr",
     "output_type": "stream",
     "text": [
      "Warning message in tm_map.SimpleCorpus(TextDoc, toSpace, \"/\"):\n",
      "\"transformation drops documents\"\n",
      "Warning message in tm_map.SimpleCorpus(TextDoc, toSpace, \"@\"):\n",
      "\"transformation drops documents\"\n",
      "Warning message in tm_map.SimpleCorpus(TextDoc, toSpace, \"\\\\|\"):\n",
      "\"transformation drops documents\"\n"
     ]
    }
   ],
   "source": [
    "\n",
    "# Cleaning up TextData by replacing \"/\", \"@\" and \"|\" with space\n",
    "toSpace <- content_transformer(function (x , pattern ) gsub(pattern, \" \", x))\n",
    "TextDoc <- tm_map(TextDoc, toSpace, \"/\")\n",
    "TextDoc <- tm_map(TextDoc, toSpace, \"@\")\n",
    "TextDoc <- tm_map(TextDoc, toSpace, \"\\\\|\")\n"
   ]
  },
  {
   "cell_type": "code",
   "execution_count": 10,
   "metadata": {
    "vscode": {
     "languageId": "r"
    }
   },
   "outputs": [
    {
     "name": "stderr",
     "output_type": "stream",
     "text": [
      "Warning message in tm_map.SimpleCorpus(TextDoc, content_transformer(tolower)):\n",
      "\"transformation drops documents\"\n"
     ]
    }
   ],
   "source": [
    "\n",
    "# Convert the text to lower case\n",
    "TextDoc <- tm_map(TextDoc, content_transformer(tolower))\n"
   ]
  },
  {
   "cell_type": "code",
   "execution_count": 11,
   "metadata": {
    "vscode": {
     "languageId": "r"
    }
   },
   "outputs": [
    {
     "name": "stderr",
     "output_type": "stream",
     "text": [
      "Warning message in tm_map.SimpleCorpus(TextDoc, removeNumbers):\n",
      "\"transformation drops documents\"\n"
     ]
    }
   ],
   "source": [
    "\n",
    "# Remove numbers\n",
    "TextDoc <- tm_map(TextDoc, removeNumbers)\n"
   ]
  },
  {
   "cell_type": "code",
   "execution_count": 12,
   "metadata": {
    "vscode": {
     "languageId": "r"
    }
   },
   "outputs": [
    {
     "name": "stderr",
     "output_type": "stream",
     "text": [
      "Warning message in tm_map.SimpleCorpus(TextDoc, removeWords, stopwords(\"english\")):\n",
      "\"transformation drops documents\"\n"
     ]
    }
   ],
   "source": [
    "\n",
    "# Remove english common stopwords\n",
    "TextDoc <- tm_map(TextDoc, removeWords, stopwords(\"english\"))\n"
   ]
  },
  {
   "cell_type": "code",
   "execution_count": 13,
   "metadata": {
    "vscode": {
     "languageId": "r"
    }
   },
   "outputs": [
    {
     "name": "stderr",
     "output_type": "stream",
     "text": [
      "Warning message in tm_map.SimpleCorpus(TextDoc, removePunctuation):\n",
      "\"transformation drops documents\"\n"
     ]
    }
   ],
   "source": [
    "\n",
    "#TextDoc <- tm_map(TextDoc, removeWords, c(\"s\", \"company\",\"team\")) \n",
    "\n",
    "# Remove punctuations\n",
    "TextDoc <- tm_map(TextDoc, removePunctuation)\n"
   ]
  },
  {
   "cell_type": "code",
   "execution_count": 14,
   "metadata": {
    "vscode": {
     "languageId": "r"
    }
   },
   "outputs": [
    {
     "name": "stderr",
     "output_type": "stream",
     "text": [
      "Warning message in tm_map.SimpleCorpus(TextDoc, stripWhitespace):\n",
      "\"transformation drops documents\"\n"
     ]
    }
   ],
   "source": [
    "\n",
    "# Eliminate extra white spaces\n",
    "TextDoc <- tm_map(TextDoc, stripWhitespace)\n"
   ]
  },
  {
   "cell_type": "code",
   "execution_count": 17,
   "metadata": {
    "vscode": {
     "languageId": "r"
    }
   },
   "outputs": [
    {
     "name": "stderr",
     "output_type": "stream",
     "text": [
      "Warning message in tm_map.SimpleCorpus(TextDoc, stemDocument):\n",
      "\"transformation drops documents\"\n"
     ]
    }
   ],
   "source": [
    "\n",
    "# Text stemming - which reduces words to their root form\n",
    "TextDoc <- tm_map(TextDoc, stemDocument)\n"
   ]
  },
  {
   "cell_type": "code",
   "execution_count": 18,
   "metadata": {
    "vscode": {
     "languageId": "r"
    }
   },
   "outputs": [
    {
     "data": {
      "text/html": [
       "22"
      ],
      "text/latex": [
       "22"
      ],
      "text/markdown": [
       "22"
      ],
      "text/plain": [
       "[1] 22"
      ]
     },
     "metadata": {},
     "output_type": "display_data"
    }
   ],
   "source": [
    "length(TextDoc)"
   ]
  },
  {
   "cell_type": "code",
   "execution_count": 19,
   "metadata": {
    "vscode": {
     "languageId": "r"
    }
   },
   "outputs": [
    {
     "name": "stderr",
     "output_type": "stream",
     "text": [
      "Warning message in stri_count_regex(string, pattern, opts_regex = opts(pattern)):\n",
      "\"argument is not an atomic vector; coercing\"\n"
     ]
    },
    {
     "data": {
      "text/html": [
       "<style>\n",
       ".list-inline {list-style: none; margin:0; padding: 0}\n",
       ".list-inline>li {display: inline-block}\n",
       ".list-inline>li:not(:last-child)::after {content: \"\\00b7\"; padding: 0 .5ex}\n",
       "</style>\n",
       "<ol class=list-inline><li>18</li><li>0</li><li>0</li></ol>\n"
      ],
      "text/latex": [
       "\\begin{enumerate*}\n",
       "\\item 18\n",
       "\\item 0\n",
       "\\item 0\n",
       "\\end{enumerate*}\n"
      ],
      "text/markdown": [
       "1. 18\n",
       "2. 0\n",
       "3. 0\n",
       "\n",
       "\n"
      ],
      "text/plain": [
       "[1] 18  0  0"
      ]
     },
     "metadata": {},
     "output_type": "display_data"
    }
   ],
   "source": [
    "# Count character \"Data\" in TextData\n",
    "str_count(TextDoc, \"data\")"
   ]
  },
  {
   "cell_type": "code",
   "execution_count": 21,
   "metadata": {
    "vscode": {
     "languageId": "r"
    }
   },
   "outputs": [
    {
     "data": {
      "text/html": [
       "<style>\n",
       ".list-inline {list-style: none; margin:0; padding: 0}\n",
       ".list-inline>li {display: inline-block}\n",
       ".list-inline>li:not(:last-child)::after {content: \"\\00b7\"; padding: 0 .5ex}\n",
       "</style>\n",
       "<ol class=list-inline><li>209</li><li>4</li><li>2</li></ol>\n"
      ],
      "text/latex": [
       "\\begin{enumerate*}\n",
       "\\item 209\n",
       "\\item 4\n",
       "\\item 2\n",
       "\\end{enumerate*}\n"
      ],
      "text/markdown": [
       "1. 209\n",
       "2. 4\n",
       "3. 2\n",
       "\n",
       "\n"
      ],
      "text/plain": [
       "[1] 209   4   2"
      ]
     },
     "metadata": {},
     "output_type": "display_data"
    }
   ],
   "source": [
    "lengths(gregexpr(\"\\\\W+\", TextDoc)) + 1"
   ]
  },
  {
   "cell_type": "code",
   "execution_count": 22,
   "metadata": {
    "vscode": {
     "languageId": "r"
    }
   },
   "outputs": [
    {
     "ename": "ERROR",
     "evalue": "Error in strsplit(TextDoc, \" \"): non-character argument\n",
     "output_type": "error",
     "traceback": [
      "Error in strsplit(TextDoc, \" \"): non-character argument\nTraceback:\n",
      "1. strsplit(TextDoc, \" \")"
     ]
    }
   ],
   "source": [
    "# Count Number of Words in TextData String\n",
    "split <- strsplit(TextDoc, \" \")\n",
    "sapply( split , length)\n"
   ]
  },
  {
   "cell_type": "code",
   "execution_count": 23,
   "metadata": {
    "vscode": {
     "languageId": "r"
    }
   },
   "outputs": [
    {
     "name": "stdout",
     "output_type": "stream",
     "text": [
      "        Docs\n",
      "Terms    1 2 3 4 5 6 7 8 9 10 11 12 13 14 15 16 17 18 19 20 21 22\n",
      "  analyt 1 1 2 0 1 2 1 0 0  0  0  1  1  0  0  0  0  1  0  0  0  0\n",
      "  applic 1 0 0 0 0 0 0 0 0  1  0  0  0  0  0  0  0  0  0  0  0  0\n",
      "  assort 1 0 0 0 0 0 0 0 0  0  0  0  0  0  0  0  0  0  0  0  0  0\n",
      "  basic  1 0 0 0 0 0 0 0 0  0  0  0  0  0  0  0  0  0  0  0  0  0\n",
      "  busi   1 0 1 1 0 0 1 0 0  1  0  0  0  0  0  0  0  0  0  0  0  0\n",
      "  data   1 0 0 1 1 1 1 0 0  1  0  1  2  2  1  0  2  2  1  0  1  0\n"
     ]
    }
   ],
   "source": [
    "\n",
    "# Build a term-document matrix\n",
    "TextDoc_dtm <- TermDocumentMatrix(TextDoc)\n",
    "dtm_m <- as.matrix(TextDoc_dtm)\n",
    "print(head(dtm_m))\n"
   ]
  },
  {
   "cell_type": "code",
   "execution_count": 24,
   "metadata": {
    "vscode": {
     "languageId": "r"
    }
   },
   "outputs": [],
   "source": [
    "\n",
    "# Sort by descearing value of frequency\n",
    "dtm_v <- sort(rowSums(dtm_m),decreasing=TRUE)\n",
    "dtm_d <- data.frame(word = names(dtm_v),freq=dtm_v)\n"
   ]
  },
  {
   "cell_type": "code",
   "execution_count": 25,
   "metadata": {
    "vscode": {
     "languageId": "r"
    }
   },
   "outputs": [
    {
     "name": "stdout",
     "output_type": "stream",
     "text": [
      "           word freq\n",
      "data       data   18\n",
      "analyt   analyt   11\n",
      "analysi analysi    6\n",
      "busi       busi    5\n",
      "can         can    5\n"
     ]
    }
   ],
   "source": [
    "\n",
    "# Display the top 5 most frequent words\n",
    "print(head(dtm_d, 5))\n"
   ]
  },
  {
   "cell_type": "code",
   "execution_count": 26,
   "metadata": {
    "vscode": {
     "languageId": "r"
    }
   },
   "outputs": [
    {
     "data": {
      "image/png": "[encoded data removed]",
      "text/plain": [
       "Plot with title \"Top 5 most frequent words\""
      ]
     },
     "metadata": {
      "image/png": {
       "height": 420,
       "width": 420
      }
     },
     "output_type": "display_data"
    }
   ],
   "source": [
    "\n",
    "# Plot the most frequent words\n",
    "barplot(dtm_d[1:5,]$freq, las = 2, names.arg = dtm_d[1:5,]$word,\n",
    "        col =\"lightgreen\", main =\"Top 5 most frequent words\",\n",
    "        ylab = \"Word frequencies\")\n",
    "\n",
    "\n"
   ]
  },
  {
   "cell_type": "markdown",
   "metadata": {
    "vscode": {
     "languageId": "r"
    }
   },
   "source": [
    "The most frequent word in the document is \"data\""
   ]
  }
 ],
 "metadata": {
  "kernelspec": {
   "display_name": "R",
   "language": "R",
   "name": "ir"
  },
  "language_info": {
   "codemirror_mode": "r",
   "file_extension": ".r",
   "mimetype": "text/x-r-source",
   "name": "R",
   "pygments_lexer": "r",
   "version": "4.2.1"
  },
  "orig_nbformat": 4
 },
 "nbformat": 4,
 "nbformat_minor": 2
}
