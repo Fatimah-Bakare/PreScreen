{
 "cells": [
  {
   "cell_type": "code",
   "execution_count": 7,
   "metadata": {
    "vscode": {
     "languageId": "r"
    }
   },
   "outputs": [
    {
     "name": "stderr",
     "output_type": "stream",
     "text": [
      "Loading required package: NLP\n",
      "\n",
      "Loading required package: RColorBrewer\n",
      "\n",
      "\n",
      "Attaching package: 'ggplot2'\n",
      "\n",
      "\n",
      "The following object is masked from 'package:NLP':\n",
      "\n",
      "    annotate\n",
      "\n",
      "\n"
     ]
    }
   ],
   "source": [
    "\n",
    "library(\"tm\")\n",
    "library(\"SnowballC\")\n",
    "library(\"wordcloud\")\n",
    "library(\"RColorBrewer\")\n",
    "library(\"syuzhet\")\n",
    "library(\"ggplot2\")\n",
    "library(\"stringr\")\n"
   ]
  },
  {
   "cell_type": "code",
   "execution_count": 58,
   "metadata": {
    "vscode": {
     "languageId": "r"
    }
   },
   "outputs": [],
   "source": [
    "# Make plots wider \n",
    "options(repr.plot.width=15, repr.plot.height=8)"
   ]
  },
  {
   "cell_type": "code",
   "execution_count": 1,
   "metadata": {
    "vscode": {
     "languageId": "r"
    }
   },
   "outputs": [
    {
     "name": "stderr",
     "output_type": "stream",
     "text": [
      "Warning message in readLines(\"C:/Users/Taofiq/Documents/GitHub/PreScreen/data/text.txt\"):\n",
      "\"incomplete final line found on 'C:/Users/Taofiq/Documents/GitHub/PreScreen/data/text.txt'\"\n"
     ]
    }
   ],
   "source": [
    "\n",
    "# Read the TextData file\n",
    "text <- readLines(\"C:/Users/Documents/GitHub/PreScreen/data/text.txt\")\n"
   ]
  },
  {
   "cell_type": "code",
   "execution_count": 2,
   "metadata": {
    "vscode": {
     "languageId": "r"
    }
   },
   "outputs": [
    {
     "data": {
      "text/html": [
       "22"
      ],
      "text/latex": [
       "22"
      ],
      "text/markdown": [
       "22"
      ],
      "text/plain": [
       "[1] 22"
      ]
     },
     "metadata": {},
     "output_type": "display_data"
    }
   ],
   "source": [
    "\n",
    "# Check for length of TextData\n",
    "length(text)\n"
   ]
  },
  {
   "cell_type": "markdown",
   "metadata": {},
   "source": [
    "There are twenty tow lines in the text."
   ]
  },
  {
   "cell_type": "markdown",
   "metadata": {},
   "source": [
    "## Preprocess the data"
   ]
  },
  {
   "cell_type": "code",
   "execution_count": 3,
   "metadata": {
    "vscode": {
     "languageId": "r"
    }
   },
   "outputs": [
    {
     "data": {
      "text/html": [
       "<style>\n",
       ".list-inline {list-style: none; margin:0; padding: 0}\n",
       ".list-inline>li {display: inline-block}\n",
       ".list-inline>li:not(:last-child)::after {content: \"\\00b7\"; padding: 0 .5ex}\n",
       "</style>\n",
       "<ol class=list-inline><li>15</li><li>13</li><li>15</li><li>17</li><li>17</li><li>15</li><li>11</li><li>12</li><li>17</li><li>12</li><li>15</li><li>18</li><li>15</li><li>13</li><li>16</li><li>22</li><li>16</li><li>14</li><li>14</li><li>13</li><li>14</li><li>5</li></ol>\n"
      ],
      "text/latex": [
       "\\begin{enumerate*}\n",
       "\\item 15\n",
       "\\item 13\n",
       "\\item 15\n",
       "\\item 17\n",
       "\\item 17\n",
       "\\item 15\n",
       "\\item 11\n",
       "\\item 12\n",
       "\\item 17\n",
       "\\item 12\n",
       "\\item 15\n",
       "\\item 18\n",
       "\\item 15\n",
       "\\item 13\n",
       "\\item 16\n",
       "\\item 22\n",
       "\\item 16\n",
       "\\item 14\n",
       "\\item 14\n",
       "\\item 13\n",
       "\\item 14\n",
       "\\item 5\n",
       "\\end{enumerate*}\n"
      ],
      "text/markdown": [
       "1. 15\n",
       "2. 13\n",
       "3. 15\n",
       "4. 17\n",
       "5. 17\n",
       "6. 15\n",
       "7. 11\n",
       "8. 12\n",
       "9. 17\n",
       "10. 12\n",
       "11. 15\n",
       "12. 18\n",
       "13. 15\n",
       "14. 13\n",
       "15. 16\n",
       "16. 22\n",
       "17. 16\n",
       "18. 14\n",
       "19. 14\n",
       "20. 13\n",
       "21. 14\n",
       "22. 5\n",
       "\n",
       "\n"
      ],
      "text/plain": [
       " [1] 15 13 15 17 17 15 11 12 17 12 15 18 15 13 16 22 16 14 14 13 14  5"
      ]
     },
     "metadata": {},
     "output_type": "display_data"
    }
   ],
   "source": [
    "# Count Number of Words in TextData String\n",
    "split <- strsplit(text, \" \")\n",
    "sapply( split , length)\n"
   ]
  },
  {
   "cell_type": "code",
   "execution_count": 4,
   "metadata": {
    "vscode": {
     "languageId": "r"
    }
   },
   "outputs": [
    {
     "data": {
      "text/html": [
       "319"
      ],
      "text/latex": [
       "319"
      ],
      "text/markdown": [
       "319"
      ],
      "text/plain": [
       "[1] 319"
      ]
     },
     "metadata": {},
     "output_type": "display_data"
    }
   ],
   "source": [
    "# Total sum of words in TextData\n",
    "sum(sapply( split , length))"
   ]
  },
  {
   "cell_type": "code",
   "execution_count": 8,
   "metadata": {
    "vscode": {
     "languageId": "r"
    }
   },
   "outputs": [],
   "source": [
    "# Load the data as a corpus\n",
    "TextDoc <- Corpus(VectorSource(text))\n"
   ]
  },
  {
   "cell_type": "code",
   "execution_count": 9,
   "metadata": {
    "vscode": {
     "languageId": "r"
    }
   },
   "outputs": [
    {
     "name": "stderr",
     "output_type": "stream",
     "text": [
      "Warning message in tm_map.SimpleCorpus(TextDoc, toSpace, \"/\"):\n",
      "\"transformation drops documents\"\n",
      "Warning message in tm_map.SimpleCorpus(TextDoc, toSpace, \"@\"):\n",
      "\"transformation drops documents\"\n",
      "Warning message in tm_map.SimpleCorpus(TextDoc, toSpace, \"\\\\|\"):\n",
      "\"transformation drops documents\"\n"
     ]
    }
   ],
   "source": [
    "\n",
    "# Cleaning up TextData by replacing \"/\", \"@\" and \"|\" with space\n",
    "toSpace <- content_transformer(function (x , pattern ) gsub(pattern, \" \", x))\n",
    "TextDoc <- tm_map(TextDoc, toSpace, \"/\")\n",
    "TextDoc <- tm_map(TextDoc, toSpace, \"@\")\n",
    "TextDoc <- tm_map(TextDoc, toSpace, \"\\\\|\")\n"
   ]
  },
  {
   "cell_type": "code",
   "execution_count": 10,
   "metadata": {
    "vscode": {
     "languageId": "r"
    }
   },
   "outputs": [
    {
     "name": "stderr",
     "output_type": "stream",
     "text": [
      "Warning message in tm_map.SimpleCorpus(TextDoc, content_transformer(tolower)):\n",
      "\"transformation drops documents\"\n"
     ]
    }
   ],
   "source": [
    "\n",
    "# Convert the text to lower case\n",
    "TextDoc <- tm_map(TextDoc, content_transformer(tolower))\n"
   ]
  },
  {
   "cell_type": "code",
   "execution_count": 11,
   "metadata": {
    "vscode": {
     "languageId": "r"
    }
   },
   "outputs": [
    {
     "name": "stderr",
     "output_type": "stream",
     "text": [
      "Warning message in tm_map.SimpleCorpus(TextDoc, removeNumbers):\n",
      "\"transformation drops documents\"\n"
     ]
    }
   ],
   "source": [
    "\n",
    "# Remove numbers\n",
    "TextDoc <- tm_map(TextDoc, removeNumbers)\n"
   ]
  },
  {
   "cell_type": "code",
   "execution_count": 12,
   "metadata": {
    "vscode": {
     "languageId": "r"
    }
   },
   "outputs": [
    {
     "name": "stderr",
     "output_type": "stream",
     "text": [
      "Warning message in tm_map.SimpleCorpus(TextDoc, removeWords, stopwords(\"english\")):\n",
      "\"transformation drops documents\"\n"
     ]
    }
   ],
   "source": [
    "\n",
    "# Remove english common stopwords\n",
    "TextDoc <- tm_map(TextDoc, removeWords, stopwords(\"english\"))\n"
   ]
  },
  {
   "cell_type": "code",
   "execution_count": 13,
   "metadata": {
    "vscode": {
     "languageId": "r"
    }
   },
   "outputs": [
    {
     "name": "stderr",
     "output_type": "stream",
     "text": [
      "Warning message in tm_map.SimpleCorpus(TextDoc, removePunctuation):\n",
      "\"transformation drops documents\"\n"
     ]
    }
   ],
   "source": [
    "\n",
    "#TextDoc <- tm_map(TextDoc, removeWords, c(\"s\", \"company\",\"team\")) \n",
    "\n",
    "# Remove punctuations\n",
    "TextDoc <- tm_map(TextDoc, removePunctuation)\n"
   ]
  },
  {
   "cell_type": "code",
   "execution_count": 14,
   "metadata": {
    "vscode": {
     "languageId": "r"
    }
   },
   "outputs": [
    {
     "name": "stderr",
     "output_type": "stream",
     "text": [
      "Warning message in tm_map.SimpleCorpus(TextDoc, stripWhitespace):\n",
      "\"transformation drops documents\"\n"
     ]
    }
   ],
   "source": [
    "\n",
    "# Eliminate extra white spaces\n",
    "TextDoc <- tm_map(TextDoc, stripWhitespace)\n"
   ]
  },
  {
   "cell_type": "code",
   "execution_count": 17,
   "metadata": {
    "vscode": {
     "languageId": "r"
    }
   },
   "outputs": [
    {
     "name": "stderr",
     "output_type": "stream",
     "text": [
      "Warning message in tm_map.SimpleCorpus(TextDoc, stemDocument):\n",
      "\"transformation drops documents\"\n"
     ]
    }
   ],
   "source": [
    "\n",
    "# Text stemming - which reduces words to their root form\n",
    "TextDoc <- tm_map(TextDoc, stemDocument)\n"
   ]
  },
  {
   "cell_type": "code",
   "execution_count": 18,
   "metadata": {
    "vscode": {
     "languageId": "r"
    }
   },
   "outputs": [
    {
     "data": {
      "text/html": [
       "22"
      ],
      "text/latex": [
       "22"
      ],
      "text/markdown": [
       "22"
      ],
      "text/plain": [
       "[1] 22"
      ]
     },
     "metadata": {},
     "output_type": "display_data"
    }
   ],
   "source": [
    "length(TextDoc)"
   ]
  },
  {
   "cell_type": "code",
   "execution_count": 19,
   "metadata": {
    "vscode": {
     "languageId": "r"
    }
   },
   "outputs": [
    {
     "name": "stderr",
     "output_type": "stream",
     "text": [
      "Warning message in stri_count_regex(string, pattern, opts_regex = opts(pattern)):\n",
      "\"argument is not an atomic vector; coercing\"\n"
     ]
    },
    {
     "data": {
      "text/html": [
       "<style>\n",
       ".list-inline {list-style: none; margin:0; padding: 0}\n",
       ".list-inline>li {display: inline-block}\n",
       ".list-inline>li:not(:last-child)::after {content: \"\\00b7\"; padding: 0 .5ex}\n",
       "</style>\n",
       "<ol class=list-inline><li>18</li><li>0</li><li>0</li></ol>\n"
      ],
      "text/latex": [
       "\\begin{enumerate*}\n",
       "\\item 18\n",
       "\\item 0\n",
       "\\item 0\n",
       "\\end{enumerate*}\n"
      ],
      "text/markdown": [
       "1. 18\n",
       "2. 0\n",
       "3. 0\n",
       "\n",
       "\n"
      ],
      "text/plain": [
       "[1] 18  0  0"
      ]
     },
     "metadata": {},
     "output_type": "display_data"
    }
   ],
   "source": [
    "# Count character \"Data\" in TextData\n",
    "str_count(TextDoc, \"data\")"
   ]
  },
  {
   "cell_type": "code",
   "execution_count": 21,
   "metadata": {
    "vscode": {
     "languageId": "r"
    }
   },
   "outputs": [
    {
     "data": {
      "text/html": [
       "<style>\n",
       ".list-inline {list-style: none; margin:0; padding: 0}\n",
       ".list-inline>li {display: inline-block}\n",
       ".list-inline>li:not(:last-child)::after {content: \"\\00b7\"; padding: 0 .5ex}\n",
       "</style>\n",
       "<ol class=list-inline><li>209</li><li>4</li><li>2</li></ol>\n"
      ],
      "text/latex": [
       "\\begin{enumerate*}\n",
       "\\item 209\n",
       "\\item 4\n",
       "\\item 2\n",
       "\\end{enumerate*}\n"
      ],
      "text/markdown": [
       "1. 209\n",
       "2. 4\n",
       "3. 2\n",
       "\n",
       "\n"
      ],
      "text/plain": [
       "[1] 209   4   2"
      ]
     },
     "metadata": {},
     "output_type": "display_data"
    }
   ],
   "source": [
    "lengths(gregexpr(\"\\\\W+\", TextDoc)) + 1"
   ]
  },
  {
   "cell_type": "code",
   "execution_count": 22,
   "metadata": {
    "vscode": {
     "languageId": "r"
    }
   },
   "outputs": [
    {
     "ename": "ERROR",
     "evalue": "Error in strsplit(TextDoc, \" \"): non-character argument\n",
     "output_type": "error",
     "traceback": [
      "Error in strsplit(TextDoc, \" \"): non-character argument\nTraceback:\n",
      "1. strsplit(TextDoc, \" \")"
     ]
    }
   ],
   "source": [
    "# Count Number of Words in TextData String\n",
    "split <- strsplit(TextDoc, \" \")\n",
    "sapply( split , length)\n"
   ]
  },
  {
   "cell_type": "markdown",
   "metadata": {},
   "source": [
    "## What is the probability of the word “data” occurring in each line ?\n"
   ]
  },
  {
   "cell_type": "code",
   "execution_count": 17,
   "metadata": {
    "vscode": {
     "languageId": "r"
    }
   },
   "outputs": [
    {
     "name": "stdout",
     "output_type": "stream",
     "text": [
      "             X1 X2 X3 X4 X5 X6 X7 X8 X9 X10 X11 X12 X13 X14 X15 X16 X17 X18 X19\n",
      "analytics     1  0  2  0  1  2  1  0  0   0   0   1   1   0   0   0   0   1   0\n",
      "applications  1  0  0  0  0  0  0  0  0   0   0   0   0   0   0   0   0   0   0\n",
      "assortment    1  0  0  0  0  0  0  0  0   0   0   0   0   0   0   0   0   0   0\n",
      "basic         1  0  0  0  0  0  0  0  0   0   0   0   0   0   0   0   0   0   0\n",
      "business      1  0  1  1  0  0  0  0  0   1   0   0   0   0   0   0   0   0   0\n",
      "data          1  0  0  1  1  1  1  0  0   1   0   1   2   2   1   0   2   2   1\n",
      "             X20 X21 X22\n",
      "analytics      0   0   0\n",
      "applications   0   0   0\n",
      "assortment     0   0   0\n",
      "basic          0   0   0\n",
      "business       0   0   0\n",
      "data           0   1   0\n"
     ]
    }
   ],
   "source": [
    "\n",
    "# Build a term-document matrix\n",
    "TextDoc_dtm <- TermDocumentMatrix(TextDoc)\n",
    "dtm_m <- data.frame(as.matrix(TextDoc_dtm))\n",
    "print(head(dtm_m))\n"
   ]
  },
  {
   "cell_type": "code",
   "execution_count": 46,
   "metadata": {
    "vscode": {
     "languageId": "r"
    }
   },
   "outputs": [],
   "source": [
    "dfg <- data.frame(colSums(dtm_m, na.rm=TRUE))\n",
    "dfg$data_count <- t(dtm_m[6,])\n",
    "dfg$data_prob <- dfg[,2]/dfg[,1]"
   ]
  },
  {
   "cell_type": "code",
   "execution_count": 47,
   "metadata": {
    "vscode": {
     "languageId": "r"
    }
   },
   "outputs": [
    {
     "data": {
      "text/html": [
       "<table class=\"dataframe\">\n",
       "<caption>A data.frame: 23 × 3</caption>\n",
       "<thead>\n",
       "\t<tr><th></th><th scope=col>colSums.dtm_m..na.rm...TRUE.</th><th scope=col>data_count</th><th scope=col>data_prob</th></tr>\n",
       "\t<tr><th></th><th scope=col>&lt;dbl&gt;</th><th scope=col>&lt;dbl[,1]&gt;</th><th scope=col>&lt;dbl[,1]&gt;</th></tr>\n",
       "</thead>\n",
       "<tbody>\n",
       "\t<tr><th scope=row>X1</th><td> 9</td><td>1</td><td>0.11111111</td></tr>\n",
       "\t<tr><th scope=row>X2</th><td> 9</td><td>0</td><td>0.00000000</td></tr>\n",
       "\t<tr><th scope=row>X3</th><td> 9</td><td>0</td><td>0.00000000</td></tr>\n",
       "\t<tr><th scope=row>X4</th><td> 8</td><td>1</td><td>0.12500000</td></tr>\n",
       "\t<tr><th scope=row>X5</th><td> 9</td><td>1</td><td>0.11111111</td></tr>\n",
       "\t<tr><th scope=row>X6</th><td>11</td><td>1</td><td>0.09090909</td></tr>\n",
       "\t<tr><th scope=row>X7</th><td>11</td><td>1</td><td>0.09090909</td></tr>\n",
       "\t<tr><th scope=row>X8</th><td> 9</td><td>0</td><td>0.00000000</td></tr>\n",
       "\t<tr><th scope=row>X9</th><td> 9</td><td>0</td><td>0.00000000</td></tr>\n",
       "\t<tr><th scope=row>X10</th><td> 8</td><td>1</td><td>0.12500000</td></tr>\n",
       "\t<tr><th scope=row>X11</th><td> 9</td><td>0</td><td>0.00000000</td></tr>\n",
       "\t<tr><th scope=row>X12</th><td>11</td><td>1</td><td>0.09090909</td></tr>\n",
       "\t<tr><th scope=row>X13</th><td>12</td><td>2</td><td>0.16666667</td></tr>\n",
       "\t<tr><th scope=row>X14</th><td> 9</td><td>2</td><td>0.22222222</td></tr>\n",
       "\t<tr><th scope=row>X15</th><td>10</td><td>1</td><td>0.10000000</td></tr>\n",
       "\t<tr><th scope=row>X16</th><td>10</td><td>0</td><td>0.00000000</td></tr>\n",
       "\t<tr><th scope=row>X17</th><td>11</td><td>2</td><td>0.18181818</td></tr>\n",
       "\t<tr><th scope=row>X18</th><td>10</td><td>2</td><td>0.20000000</td></tr>\n",
       "\t<tr><th scope=row>X19</th><td> 9</td><td>1</td><td>0.11111111</td></tr>\n",
       "\t<tr><th scope=row>X20</th><td> 7</td><td>0</td><td>0.00000000</td></tr>\n",
       "\t<tr><th scope=row>X21</th><td>11</td><td>1</td><td>0.09090909</td></tr>\n",
       "\t<tr><th scope=row>X22</th><td> 3</td><td>0</td><td>0.00000000</td></tr>\n",
       "\t<tr><th scope=row>row_sum</th><td>12</td><td>1</td><td>0.08333333</td></tr>\n",
       "</tbody>\n",
       "</table>\n"
      ],
      "text/latex": [
       "A data.frame: 23 × 3\n",
       "\\begin{tabular}{r|lll}\n",
       "  & colSums.dtm\\_m..na.rm...TRUE. & data\\_count & data\\_prob\\\\\n",
       "  & <dbl> & <dbl{[},1{]}> & <dbl{[},1{]}>\\\\\n",
       "\\hline\n",
       "\tX1 &  9 & 1 & 0.11111111\\\\\n",
       "\tX2 &  9 & 0 & 0.00000000\\\\\n",
       "\tX3 &  9 & 0 & 0.00000000\\\\\n",
       "\tX4 &  8 & 1 & 0.12500000\\\\\n",
       "\tX5 &  9 & 1 & 0.11111111\\\\\n",
       "\tX6 & 11 & 1 & 0.09090909\\\\\n",
       "\tX7 & 11 & 1 & 0.09090909\\\\\n",
       "\tX8 &  9 & 0 & 0.00000000\\\\\n",
       "\tX9 &  9 & 0 & 0.00000000\\\\\n",
       "\tX10 &  8 & 1 & 0.12500000\\\\\n",
       "\tX11 &  9 & 0 & 0.00000000\\\\\n",
       "\tX12 & 11 & 1 & 0.09090909\\\\\n",
       "\tX13 & 12 & 2 & 0.16666667\\\\\n",
       "\tX14 &  9 & 2 & 0.22222222\\\\\n",
       "\tX15 & 10 & 1 & 0.10000000\\\\\n",
       "\tX16 & 10 & 0 & 0.00000000\\\\\n",
       "\tX17 & 11 & 2 & 0.18181818\\\\\n",
       "\tX18 & 10 & 2 & 0.20000000\\\\\n",
       "\tX19 &  9 & 1 & 0.11111111\\\\\n",
       "\tX20 &  7 & 0 & 0.00000000\\\\\n",
       "\tX21 & 11 & 1 & 0.09090909\\\\\n",
       "\tX22 &  3 & 0 & 0.00000000\\\\\n",
       "\trow\\_sum & 12 & 1 & 0.08333333\\\\\n",
       "\\end{tabular}\n"
      ],
      "text/markdown": [
       "\n",
       "A data.frame: 23 × 3\n",
       "\n",
       "| <!--/--> | colSums.dtm_m..na.rm...TRUE. &lt;dbl&gt; | data_count &lt;dbl[,1]&gt; | data_prob &lt;dbl[,1]&gt; |\n",
       "|---|---|---|---|\n",
       "| X1 |  9 | 1 | 0.11111111 |\n",
       "| X2 |  9 | 0 | 0.00000000 |\n",
       "| X3 |  9 | 0 | 0.00000000 |\n",
       "| X4 |  8 | 1 | 0.12500000 |\n",
       "| X5 |  9 | 1 | 0.11111111 |\n",
       "| X6 | 11 | 1 | 0.09090909 |\n",
       "| X7 | 11 | 1 | 0.09090909 |\n",
       "| X8 |  9 | 0 | 0.00000000 |\n",
       "| X9 |  9 | 0 | 0.00000000 |\n",
       "| X10 |  8 | 1 | 0.12500000 |\n",
       "| X11 |  9 | 0 | 0.00000000 |\n",
       "| X12 | 11 | 1 | 0.09090909 |\n",
       "| X13 | 12 | 2 | 0.16666667 |\n",
       "| X14 |  9 | 2 | 0.22222222 |\n",
       "| X15 | 10 | 1 | 0.10000000 |\n",
       "| X16 | 10 | 0 | 0.00000000 |\n",
       "| X17 | 11 | 2 | 0.18181818 |\n",
       "| X18 | 10 | 2 | 0.20000000 |\n",
       "| X19 |  9 | 1 | 0.11111111 |\n",
       "| X20 |  7 | 0 | 0.00000000 |\n",
       "| X21 | 11 | 1 | 0.09090909 |\n",
       "| X22 |  3 | 0 | 0.00000000 |\n",
       "| row_sum | 12 | 1 | 0.08333333 |\n",
       "\n"
      ],
      "text/plain": [
       "        colSums.dtm_m..na.rm...TRUE. data_count data_prob \n",
       "X1       9                           1          0.11111111\n",
       "X2       9                           0          0.00000000\n",
       "X3       9                           0          0.00000000\n",
       "X4       8                           1          0.12500000\n",
       "X5       9                           1          0.11111111\n",
       "X6      11                           1          0.09090909\n",
       "X7      11                           1          0.09090909\n",
       "X8       9                           0          0.00000000\n",
       "X9       9                           0          0.00000000\n",
       "X10      8                           1          0.12500000\n",
       "X11      9                           0          0.00000000\n",
       "X12     11                           1          0.09090909\n",
       "X13     12                           2          0.16666667\n",
       "X14      9                           2          0.22222222\n",
       "X15     10                           1          0.10000000\n",
       "X16     10                           0          0.00000000\n",
       "X17     11                           2          0.18181818\n",
       "X18     10                           2          0.20000000\n",
       "X19      9                           1          0.11111111\n",
       "X20      7                           0          0.00000000\n",
       "X21     11                           1          0.09090909\n",
       "X22      3                           0          0.00000000\n",
       "row_sum 12                           1          0.08333333"
      ]
     },
     "metadata": {},
     "output_type": "display_data"
    }
   ],
   "source": [
    "# table that has the probability of data appearing per line.\n",
    "dfg"
   ]
  },
  {
   "cell_type": "markdown",
   "metadata": {},
   "source": [
    "The probability of the word \"data\" appearing at individual line is given in row titled \"data_prob\""
   ]
  },
  {
   "cell_type": "code",
   "execution_count": 53,
   "metadata": {
    "vscode": {
     "languageId": "r"
    }
   },
   "outputs": [],
   "source": [
    "\n",
    "# Sort by descearing value of frequency\n",
    "dtm_v <- sort(rowSums(dtm_m),decreasing=TRUE)\n",
    "dtm_d <- data.frame(word = names(dtm_v),freq=dtm_v)\n"
   ]
  },
  {
   "cell_type": "code",
   "execution_count": 54,
   "metadata": {
    "vscode": {
     "languageId": "r"
    }
   },
   "outputs": [
    {
     "name": "stdout",
     "output_type": "stream",
     "text": [
      "               word freq\n",
      "data           data   19\n",
      "analytics analytics   11\n",
      "analysis   analysis    6\n",
      "business   business    5\n",
      "can             can    5\n"
     ]
    }
   ],
   "source": [
    "\n",
    "# Display the top 5 most frequent words\n",
    "print(head(dtm_d, 5))\n"
   ]
  },
  {
   "cell_type": "markdown",
   "metadata": {},
   "source": [
    "## What is the distribution of distinct word counts across all the lines ?"
   ]
  },
  {
   "cell_type": "code",
   "execution_count": 59,
   "metadata": {
    "vscode": {
     "languageId": "r"
    }
   },
   "outputs": [
    {
     "data": {
      "image/png": "[encoded data removed]",
      "text/plain": [
       "Plot with title \"the distribution of distinct word counts across all the lines\""
      ]
     },
     "metadata": {
      "image/png": {
       "height": 480,
       "width": 900
      }
     },
     "output_type": "display_data"
    }
   ],
   "source": [
    "\n",
    "# Plot the most frequent words\n",
    "barplot(dtm_d[]$freq, las = 2, names.arg = dtm_d[]$word,\n",
    "        col =\"lightgreen\", main =\"the distribution of distinct word counts across all the lines\",\n",
    "        ylab = \"Word frequencies\")\n",
    "\n",
    "\n"
   ]
  },
  {
   "cell_type": "markdown",
   "metadata": {
    "vscode": {
     "languageId": "r"
    }
   },
   "source": [
    "The most frequent word in the document is \"data\""
   ]
  }
 ],
 "metadata": {
  "kernelspec": {
   "display_name": "R",
   "language": "R",
   "name": "ir"
  },
  "language_info": {
   "codemirror_mode": "r",
   "file_extension": ".r",
   "mimetype": "text/x-r-source",
   "name": "R",
   "pygments_lexer": "r",
   "version": "4.2.1"
  },
  "orig_nbformat": 4
 },
 "nbformat": 4,
 "nbformat_minor": 2
}
